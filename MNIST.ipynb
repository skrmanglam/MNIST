{
  "nbformat": 4,
  "nbformat_minor": 0,
  "metadata": {
    "colab": {
      "name": "MNIST.ipynb",
      "provenance": [],
      "authorship_tag": "ABX9TyNedJEwsG0FEeTPfS9LAuqW",
      "include_colab_link": true
    },
    "kernelspec": {
      "name": "python3",
      "display_name": "Python 3"
    },
    "language_info": {
      "name": "python"
    }
  },
  "cells": [
    {
      "cell_type": "markdown",
      "metadata": {
        "id": "view-in-github",
        "colab_type": "text"
      },
      "source": [
        "<a href=\"https://colab.research.google.com/github/skrmanglam/MNIST/blob/main/MNIST.ipynb\" target=\"_parent\"><img src=\"https://colab.research.google.com/assets/colab-badge.svg\" alt=\"Open In Colab\"/></a>"
      ]
    },
    {
      "cell_type": "code",
      "metadata": {
        "id": "79HB5yKUeEZn"
      },
      "source": [
        "import tensorflow as tf\n",
        "import tensorflow_datasets as tfds"
      ],
      "execution_count": null,
      "outputs": []
    },
    {
      "cell_type": "markdown",
      "metadata": {
        "id": "Qm7FTnXDeN-G"
      },
      "source": [
        "Load MNIST"
      ]
    },
    {
      "cell_type": "code",
      "metadata": {
        "id": "ZUMhCXhFXdHQ"
      },
      "source": [
        "(ds_train, ds_test), ds_info = tfds.load(\n",
        "    'mnist',\n",
        "    split=['train', 'test'],\n",
        "    shuffle_files=True,\n",
        "    as_supervised=True,\n",
        "    with_info=True,\n",
        ")"
      ],
      "execution_count": null,
      "outputs": []
    },
    {
      "cell_type": "markdown",
      "metadata": {
        "id": "5XnLnRdJiEFT"
      },
      "source": [
        "Normalize the data\n",
        "Build training pipeline\n",
        "\n",
        "Apply the following transormations:\n",
        "\n",
        "    ds.map: TFDS provide the images as tf.uint8, while the model expect tf.float32, so normalize images\n",
        "    ds.cache As the dataset fit in memory, cache before shuffling for better performance.\n",
        "    Note: Random transformations should be applied after caching\n",
        "    ds.shuffle: For true randomness, set the shuffle buffer to the full dataset size.\n",
        "    Note: For bigger datasets which do not fit in memory, a standard value is 1000 if your system allows it.\n",
        "    ds.batch: Batch after shuffling to get unique batches at each epoch.\n",
        "    ds.prefetch: Good practice to end the pipeline by prefetching for performances.\n"
      ]
    },
    {
      "cell_type": "code",
      "metadata": {
        "id": "p1NWsrdnhr-0"
      },
      "source": [
        "def normalize_img(image, label):\n",
        "  \"\"\"Normalizes images: `uint8` -> `float32`.\"\"\"\n",
        "  return tf.cast(image, tf.float32) / 255., label\n",
        "\n",
        "ds_train = ds_train.map(\n",
        "    normalize_img, num_parallel_calls=tf.data.experimental.AUTOTUNE)\n",
        "ds_train = ds_train.cache()\n",
        "ds_train = ds_train.shuffle(ds_info.splits['train'].num_examples)\n",
        "ds_train = ds_train.batch(128)\n",
        "ds_train = ds_train.prefetch(tf.data.experimental.AUTOTUNE)"
      ],
      "execution_count": null,
      "outputs": []
    },
    {
      "cell_type": "markdown",
      "metadata": {
        "id": "2ufRWbotqPEQ"
      },
      "source": [
        "Build evaluation pipeline\n",
        "\n",
        "Testing pipeline is similar to the training pipeline, with small differences:\n",
        "\n",
        "    No ds.shuffle() call\n",
        "    Caching is done after batching (as batches can be the same between epoch)\n"
      ]
    },
    {
      "cell_type": "code",
      "metadata": {
        "id": "TPPZIKCcqOaZ"
      },
      "source": [
        "ds_test=ds_test.map( normalize_img,num_parallel_calls=tf.data.experimental.AUTOTUNE)\n",
        "ds_test=ds_test.batch(128)\n",
        "ds_test=ds_test.cache()\n",
        "ds_test=ds_test.prefetch(tf.data.experimental.AUTOTUNE)"
      ],
      "execution_count": null,
      "outputs": []
    },
    {
      "cell_type": "markdown",
      "metadata": {
        "id": "eH_X4l8uiKhP"
      },
      "source": [
        "Create and train the model"
      ]
    },
    {
      "cell_type": "code",
      "metadata": {
        "colab": {
          "base_uri": "https://localhost:8080/"
        },
        "id": "B6sGfCU9jsmQ",
        "outputId": "263c4de9-de11-4a00-e4b9-05b5dee8063a"
      },
      "source": [
        "model= tf.keras.models.Sequential([\n",
        "                                   tf.keras.layers.Flatten(input_shape=(28,28)),\n",
        "                                   tf.keras.layers.Dense(128,activation='relu'),\n",
        "                                   tf.keras.layers.Dense(10)\n",
        "])\n",
        "model.compile(\n",
        "    optimizer=tf.keras.optimizers.Adam(0.001),\n",
        "    loss=tf.keras.losses.SparseCategoricalCrossentropy(from_logits=True),\n",
        "    metrics=[tf.keras.metrics.SparseCategoricalAccuracy()],\n",
        ")\n",
        "tf\n",
        "model.fit(\n",
        "    ds_train,\n",
        "    epochs=6,\n",
        "    validation_data=ds_test,\n",
        ")"
      ],
      "execution_count": null,
      "outputs": [
        {
          "output_type": "stream",
          "text": [
            "Epoch 1/6\n",
            "469/469 [==============================] - 9s 7ms/step - loss: 0.3594 - sparse_categorical_accuracy: 0.9014 - val_loss: 0.1988 - val_sparse_categorical_accuracy: 0.9427\n",
            "Epoch 2/6\n",
            "469/469 [==============================] - 2s 4ms/step - loss: 0.1647 - sparse_categorical_accuracy: 0.9529 - val_loss: 0.1402 - val_sparse_categorical_accuracy: 0.9594\n",
            "Epoch 3/6\n",
            "469/469 [==============================] - 2s 4ms/step - loss: 0.1171 - sparse_categorical_accuracy: 0.9668 - val_loss: 0.1062 - val_sparse_categorical_accuracy: 0.9679\n",
            "Epoch 4/6\n",
            "469/469 [==============================] - 2s 4ms/step - loss: 0.0899 - sparse_categorical_accuracy: 0.9747 - val_loss: 0.0981 - val_sparse_categorical_accuracy: 0.9715\n",
            "Epoch 5/6\n",
            "469/469 [==============================] - 2s 4ms/step - loss: 0.0724 - sparse_categorical_accuracy: 0.9793 - val_loss: 0.0880 - val_sparse_categorical_accuracy: 0.9722\n",
            "Epoch 6/6\n",
            "469/469 [==============================] - 2s 4ms/step - loss: 0.0598 - sparse_categorical_accuracy: 0.9830 - val_loss: 0.0804 - val_sparse_categorical_accuracy: 0.9753\n"
          ],
          "name": "stdout"
        },
        {
          "output_type": "execute_result",
          "data": {
            "text/plain": [
              "<tensorflow.python.keras.callbacks.History at 0x7f6b54937d90>"
            ]
          },
          "metadata": {
            "tags": []
          },
          "execution_count": 10
        }
      ]
    }
  ]
}